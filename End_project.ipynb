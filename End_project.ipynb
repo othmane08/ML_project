{
 "cells": [
  {
   "cell_type": "code",
   "execution_count": 2,
   "id": "69ba6567-b99c-44dc-a59e-054a096d3a41",
   "metadata": {},
   "outputs": [],
   "source": [
    "import pandas as pd \n",
    "df = pd.read_csv(\"Telco-Customer-Churn.csv\")\n"
   ]
  },
  {
   "cell_type": "code",
   "execution_count": 3,
   "id": "cc998336-4f9f-4d73-a306-72eb3f7a00f8",
   "metadata": {},
   "outputs": [
    {
     "data": {
      "text/plain": [
       "customerID          0\n",
       "gender              0\n",
       "SeniorCitizen       0\n",
       "Partner             0\n",
       "Dependents          0\n",
       "tenure              0\n",
       "PhoneService        0\n",
       "MultipleLines       0\n",
       "InternetService     0\n",
       "OnlineSecurity      0\n",
       "OnlineBackup        0\n",
       "DeviceProtection    0\n",
       "TechSupport         0\n",
       "StreamingTV         0\n",
       "StreamingMovies     0\n",
       "Contract            0\n",
       "PaperlessBilling    0\n",
       "PaymentMethod       0\n",
       "MonthlyCharges      0\n",
       "TotalCharges        0\n",
       "Churn               0\n",
       "dtype: int64"
      ]
     },
     "execution_count": 3,
     "metadata": {},
     "output_type": "execute_result"
    }
   ],
   "source": [
    "df.isnull().sum()"
   ]
  },
  {
   "cell_type": "code",
   "execution_count": 4,
   "id": "cb90145a-597f-4108-b836-f1e432e66309",
   "metadata": {},
   "outputs": [
    {
     "data": {
      "text/plain": [
       "customerID           object\n",
       "gender               object\n",
       "SeniorCitizen         int64\n",
       "Partner              object\n",
       "Dependents           object\n",
       "tenure                int64\n",
       "PhoneService         object\n",
       "MultipleLines        object\n",
       "InternetService      object\n",
       "OnlineSecurity       object\n",
       "OnlineBackup         object\n",
       "DeviceProtection     object\n",
       "TechSupport          object\n",
       "StreamingTV          object\n",
       "StreamingMovies      object\n",
       "Contract             object\n",
       "PaperlessBilling     object\n",
       "PaymentMethod        object\n",
       "MonthlyCharges      float64\n",
       "TotalCharges        float64\n",
       "Churn                object\n",
       "dtype: object"
      ]
     },
     "execution_count": 4,
     "metadata": {},
     "output_type": "execute_result"
    }
   ],
   "source": [
    "df['TotalCharges']=pd.to_numeric(df['TotalCharges'],errors='coerce')\n",
    "df['TotalCharges'] = df['TotalCharges'].fillna(0)\n",
    "df.dtypes"
   ]
  },
  {
   "cell_type": "code",
   "execution_count": 5,
   "id": "3428a51e-590a-4f27-85cb-e4c762421332",
   "metadata": {},
   "outputs": [
    {
     "name": "stdout",
     "output_type": "stream",
     "text": [
      "0\n"
     ]
    }
   ],
   "source": [
    "print(df.duplicated().sum())"
   ]
  },
  {
   "cell_type": "code",
   "execution_count": 6,
   "id": "0158df23-2dd3-4f95-9b15-ef93fac1e569",
   "metadata": {},
   "outputs": [
    {
     "name": "stdout",
     "output_type": "stream",
     "text": [
      "Churn\n",
      "No     0.73463\n",
      "Yes    0.26537\n",
      "Name: proportion, dtype: float64\n"
     ]
    }
   ],
   "source": [
    "print(df['Churn'].value_counts(normalize=True))"
   ]
  },
  {
   "cell_type": "code",
   "execution_count": 7,
   "id": "0786b856-ab82-460d-b95d-7fe171c72a12",
   "metadata": {},
   "outputs": [
    {
     "data": {
      "text/html": [
       "<div>\n",
       "<style scoped>\n",
       "    .dataframe tbody tr th:only-of-type {\n",
       "        vertical-align: middle;\n",
       "    }\n",
       "\n",
       "    .dataframe tbody tr th {\n",
       "        vertical-align: top;\n",
       "    }\n",
       "\n",
       "    .dataframe thead th {\n",
       "        text-align: right;\n",
       "    }\n",
       "</style>\n",
       "<table border=\"1\" class=\"dataframe\">\n",
       "  <thead>\n",
       "    <tr style=\"text-align: right;\">\n",
       "      <th></th>\n",
       "      <th>tenure</th>\n",
       "      <th>MonthlyCharges</th>\n",
       "      <th>TotalCharges</th>\n",
       "    </tr>\n",
       "  </thead>\n",
       "  <tbody>\n",
       "    <tr>\n",
       "      <th>count</th>\n",
       "      <td>7043.000000</td>\n",
       "      <td>7043.000000</td>\n",
       "      <td>7043.000000</td>\n",
       "    </tr>\n",
       "    <tr>\n",
       "      <th>mean</th>\n",
       "      <td>32.371149</td>\n",
       "      <td>64.761692</td>\n",
       "      <td>2279.734304</td>\n",
       "    </tr>\n",
       "    <tr>\n",
       "      <th>std</th>\n",
       "      <td>24.559481</td>\n",
       "      <td>30.090047</td>\n",
       "      <td>2266.794470</td>\n",
       "    </tr>\n",
       "    <tr>\n",
       "      <th>min</th>\n",
       "      <td>0.000000</td>\n",
       "      <td>18.250000</td>\n",
       "      <td>0.000000</td>\n",
       "    </tr>\n",
       "    <tr>\n",
       "      <th>25%</th>\n",
       "      <td>9.000000</td>\n",
       "      <td>35.500000</td>\n",
       "      <td>398.550000</td>\n",
       "    </tr>\n",
       "    <tr>\n",
       "      <th>50%</th>\n",
       "      <td>29.000000</td>\n",
       "      <td>70.350000</td>\n",
       "      <td>1394.550000</td>\n",
       "    </tr>\n",
       "    <tr>\n",
       "      <th>75%</th>\n",
       "      <td>55.000000</td>\n",
       "      <td>89.850000</td>\n",
       "      <td>3786.600000</td>\n",
       "    </tr>\n",
       "    <tr>\n",
       "      <th>max</th>\n",
       "      <td>72.000000</td>\n",
       "      <td>118.750000</td>\n",
       "      <td>8684.800000</td>\n",
       "    </tr>\n",
       "  </tbody>\n",
       "</table>\n",
       "</div>"
      ],
      "text/plain": [
       "            tenure  MonthlyCharges  TotalCharges\n",
       "count  7043.000000     7043.000000   7043.000000\n",
       "mean     32.371149       64.761692   2279.734304\n",
       "std      24.559481       30.090047   2266.794470\n",
       "min       0.000000       18.250000      0.000000\n",
       "25%       9.000000       35.500000    398.550000\n",
       "50%      29.000000       70.350000   1394.550000\n",
       "75%      55.000000       89.850000   3786.600000\n",
       "max      72.000000      118.750000   8684.800000"
      ]
     },
     "execution_count": 7,
     "metadata": {},
     "output_type": "execute_result"
    }
   ],
   "source": [
    "df[['tenure','MonthlyCharges','TotalCharges']].describe()"
   ]
  },
  {
   "cell_type": "code",
   "execution_count": 8,
   "id": "8b4d8916-90be-4721-b01c-fce338fb3955",
   "metadata": {},
   "outputs": [
    {
     "data": {
      "text/html": [
       "<div>\n",
       "<style scoped>\n",
       "    .dataframe tbody tr th:only-of-type {\n",
       "        vertical-align: middle;\n",
       "    }\n",
       "\n",
       "    .dataframe tbody tr th {\n",
       "        vertical-align: top;\n",
       "    }\n",
       "\n",
       "    .dataframe thead th {\n",
       "        text-align: right;\n",
       "    }\n",
       "</style>\n",
       "<table border=\"1\" class=\"dataframe\">\n",
       "  <thead>\n",
       "    <tr style=\"text-align: right;\">\n",
       "      <th>Contract</th>\n",
       "      <th>Month-to-month</th>\n",
       "      <th>One year</th>\n",
       "      <th>Two year</th>\n",
       "    </tr>\n",
       "    <tr>\n",
       "      <th>Churn</th>\n",
       "      <th></th>\n",
       "      <th></th>\n",
       "      <th></th>\n",
       "    </tr>\n",
       "  </thead>\n",
       "  <tbody>\n",
       "    <tr>\n",
       "      <th>No</th>\n",
       "      <td>0.429068</td>\n",
       "      <td>0.252609</td>\n",
       "      <td>0.318322</td>\n",
       "    </tr>\n",
       "    <tr>\n",
       "      <th>Yes</th>\n",
       "      <td>0.885500</td>\n",
       "      <td>0.088818</td>\n",
       "      <td>0.025682</td>\n",
       "    </tr>\n",
       "  </tbody>\n",
       "</table>\n",
       "</div>"
      ],
      "text/plain": [
       "Contract  Month-to-month  One year  Two year\n",
       "Churn                                       \n",
       "No              0.429068  0.252609  0.318322\n",
       "Yes             0.885500  0.088818  0.025682"
      ]
     },
     "execution_count": 8,
     "metadata": {},
     "output_type": "execute_result"
    }
   ],
   "source": [
    "pd.crosstab(df['Churn'], df['Contract'], normalize='index')"
   ]
  },
  {
   "cell_type": "code",
   "execution_count": 9,
   "id": "3878a73c-b5c0-4c1c-bf1c-9c426d338474",
   "metadata": {},
   "outputs": [
    {
     "data": {
      "text/html": [
       "<div>\n",
       "<style scoped>\n",
       "    .dataframe tbody tr th:only-of-type {\n",
       "        vertical-align: middle;\n",
       "    }\n",
       "\n",
       "    .dataframe tbody tr th {\n",
       "        vertical-align: top;\n",
       "    }\n",
       "\n",
       "    .dataframe thead th {\n",
       "        text-align: right;\n",
       "    }\n",
       "</style>\n",
       "<table border=\"1\" class=\"dataframe\">\n",
       "  <thead>\n",
       "    <tr style=\"text-align: right;\">\n",
       "      <th>PaymentMethod</th>\n",
       "      <th>Bank transfer (automatic)</th>\n",
       "      <th>Credit card (automatic)</th>\n",
       "      <th>Electronic check</th>\n",
       "      <th>Mailed check</th>\n",
       "    </tr>\n",
       "    <tr>\n",
       "      <th>Churn</th>\n",
       "      <th></th>\n",
       "      <th></th>\n",
       "      <th></th>\n",
       "      <th></th>\n",
       "    </tr>\n",
       "  </thead>\n",
       "  <tbody>\n",
       "    <tr>\n",
       "      <th>No</th>\n",
       "      <td>0.248550</td>\n",
       "      <td>0.249324</td>\n",
       "      <td>0.250097</td>\n",
       "      <td>0.252029</td>\n",
       "    </tr>\n",
       "    <tr>\n",
       "      <th>Yes</th>\n",
       "      <td>0.138042</td>\n",
       "      <td>0.124131</td>\n",
       "      <td>0.573034</td>\n",
       "      <td>0.164794</td>\n",
       "    </tr>\n",
       "  </tbody>\n",
       "</table>\n",
       "</div>"
      ],
      "text/plain": [
       "PaymentMethod  Bank transfer (automatic)  Credit card (automatic)  \\\n",
       "Churn                                                               \n",
       "No                              0.248550                 0.249324   \n",
       "Yes                             0.138042                 0.124131   \n",
       "\n",
       "PaymentMethod  Electronic check  Mailed check  \n",
       "Churn                                          \n",
       "No                     0.250097      0.252029  \n",
       "Yes                    0.573034      0.164794  "
      ]
     },
     "execution_count": 9,
     "metadata": {},
     "output_type": "execute_result"
    }
   ],
   "source": [
    "pd.crosstab(df['Churn'], df['PaymentMethod'], normalize='index')"
   ]
  },
  {
   "cell_type": "code",
   "execution_count": 10,
   "id": "9dd387de-4a69-4181-9007-c30fb7661745",
   "metadata": {},
   "outputs": [
    {
     "data": {
      "image/png": "[encoded data removed]",
      "text/plain": [
       "<Figure size 640x480 with 2 Axes>"
      ]
     },
     "metadata": {},
     "output_type": "display_data"
    }
   ],
   "source": [
    "import seaborn as sns\n",
    "import matplotlib.pyplot as plt\n",
    "\n",
    "df['SeniorCitizen'] = df['SeniorCitizen'].apply(lambda x: 'Yes' if x == 1 else 'No')\n",
    "sns.heatmap(df.corr(numeric_only=True), annot=True, cmap=\"coolwarm\")\n",
    "plt.show()\n"
   ]
  },
  {
   "cell_type": "code",
   "execution_count": 11,
   "id": "2b3a0020-b3bd-4b43-bb1e-b53ea25615d4",
   "metadata": {},
   "outputs": [
    {
     "data": {
      "text/plain": [
       "Churn\n",
       "No     37.569965\n",
       "Yes    17.979133\n",
       "Name: tenure, dtype: float64"
      ]
     },
     "execution_count": 11,
     "metadata": {},
     "output_type": "execute_result"
    }
   ],
   "source": [
    "df.groupby('Churn')['tenure'].mean()"
   ]
  },
  {
   "cell_type": "code",
   "execution_count": 12,
   "id": "2772464a-59a7-4315-9714-d63ef7754243",
   "metadata": {},
   "outputs": [],
   "source": [
    "df['SeniorCitizen'] = df['SeniorCitizen'].apply(lambda x: 1 if x == 'Yes' else 0)"
   ]
  },
  {
   "cell_type": "code",
   "execution_count": 13,
   "id": "63d8a0ca-af81-4b5c-80c5-a47ec6fd027b",
   "metadata": {},
   "outputs": [
    {
     "data": {
      "text/html": [
       "<div>\n",
       "<style scoped>\n",
       "    .dataframe tbody tr th:only-of-type {\n",
       "        vertical-align: middle;\n",
       "    }\n",
       "\n",
       "    .dataframe tbody tr th {\n",
       "        vertical-align: top;\n",
       "    }\n",
       "\n",
       "    .dataframe thead th {\n",
       "        text-align: right;\n",
       "    }\n",
       "</style>\n",
       "<table border=\"1\" class=\"dataframe\">\n",
       "  <thead>\n",
       "    <tr style=\"text-align: right;\">\n",
       "      <th>OnlineSecurity</th>\n",
       "      <th>No</th>\n",
       "      <th>No internet service</th>\n",
       "      <th>Yes</th>\n",
       "    </tr>\n",
       "    <tr>\n",
       "      <th>Churn</th>\n",
       "      <th></th>\n",
       "      <th></th>\n",
       "      <th></th>\n",
       "    </tr>\n",
       "  </thead>\n",
       "  <tbody>\n",
       "    <tr>\n",
       "      <th>No</th>\n",
       "      <td>0.393699</td>\n",
       "      <td>0.273096</td>\n",
       "      <td>0.333204</td>\n",
       "    </tr>\n",
       "    <tr>\n",
       "      <th>Yes</th>\n",
       "      <td>0.781701</td>\n",
       "      <td>0.060460</td>\n",
       "      <td>0.157838</td>\n",
       "    </tr>\n",
       "  </tbody>\n",
       "</table>\n",
       "</div>"
      ],
      "text/plain": [
       "OnlineSecurity        No  No internet service       Yes\n",
       "Churn                                                  \n",
       "No              0.393699             0.273096  0.333204\n",
       "Yes             0.781701             0.060460  0.157838"
      ]
     },
     "execution_count": 13,
     "metadata": {},
     "output_type": "execute_result"
    }
   ],
   "source": [
    "pd.crosstab(df['Churn'], df['OnlineSecurity'], normalize='index')"
   ]
  },
  {
   "cell_type": "code",
   "execution_count": 14,
   "id": "bab96aa1-7654-4e43-9022-b01c43d20efe",
   "metadata": {},
   "outputs": [],
   "source": [
    "#first new feature\n",
    "def tenure_group(tenure):\n",
    "    if tenure <= 12:\n",
    "        return \"0-1 Year\"\n",
    "    elif tenure <= 24:\n",
    "        return \"1-2 Years\"\n",
    "    elif tenure <= 48:\n",
    "        return \"2-4 Years\"\n",
    "    elif tenure <= 60:\n",
    "        return \"4-5 Years\"\n",
    "    else:\n",
    "        return \"5+ Years\"\n",
    "df['TenureGroup'] = df['tenure'].apply(tenure_group)\n",
    "\n",
    "#second new feature\n",
    "services=['PhoneService','MultipleLines','InternetService','OnlineSecurity','OnlineBackup','DeviceProtection','TechSupport','StreamingTV','StreamingMovies']\n",
    "df['TotalServices']=df[services].apply(lambda row: sum(row=='Yes'),axis=1)\n",
    "\n",
    "#third new feature\n",
    "df['TenureNorm'] = df['tenure'] / df['tenure'].max()\n",
    "\n"
   ]
  },
  {
   "cell_type": "code",
   "execution_count": 15,
   "id": "b215bcaf-f5b9-47d8-82cb-88a06100fc6a",
   "metadata": {},
   "outputs": [
    {
     "name": "stdout",
     "output_type": "stream",
     "text": [
      "   customerID  gender  SeniorCitizen Partner Dependents  tenure PhoneService  \\\n",
      "0  7590-VHVEG  Female              0     Yes         No       1           No   \n",
      "1  5575-GNVDE    Male              0      No         No      34          Yes   \n",
      "2  3668-QPYBK    Male              0      No         No       2          Yes   \n",
      "3  7795-CFOCW    Male              0      No         No      45           No   \n",
      "4  9237-HQITU  Female              0      No         No       2          Yes   \n",
      "\n",
      "      MultipleLines InternetService OnlineSecurity  ... StreamingMovies  \\\n",
      "0  No phone service             DSL             No  ...              No   \n",
      "1                No             DSL            Yes  ...              No   \n",
      "2                No             DSL            Yes  ...              No   \n",
      "3  No phone service             DSL            Yes  ...              No   \n",
      "4                No     Fiber optic             No  ...              No   \n",
      "\n",
      "         Contract PaperlessBilling              PaymentMethod MonthlyCharges  \\\n",
      "0  Month-to-month              Yes           Electronic check          29.85   \n",
      "1        One year               No               Mailed check          56.95   \n",
      "2  Month-to-month              Yes               Mailed check          53.85   \n",
      "3        One year               No  Bank transfer (automatic)          42.30   \n",
      "4  Month-to-month              Yes           Electronic check          70.70   \n",
      "\n",
      "  TotalCharges Churn TenureGroup  TotalServices  TenureNorm  \n",
      "0        29.85    No    0-1 Year              1    0.013889  \n",
      "1      1889.50    No   2-4 Years              3    0.472222  \n",
      "2       108.15   Yes    0-1 Year              3    0.027778  \n",
      "3      1840.75    No   2-4 Years              3    0.625000  \n",
      "4       151.65   Yes    0-1 Year              1    0.027778  \n",
      "\n",
      "[5 rows x 24 columns]\n"
     ]
    }
   ],
   "source": [
    "print(df.head())"
   ]
  },
  {
   "cell_type": "code",
   "execution_count": 16,
   "id": "e2efc570-fc48-49a7-b54f-7965907b0e0e",
   "metadata": {},
   "outputs": [],
   "source": [
    "from sklearn.preprocessing import LabelEncoder\n",
    "\n",
    "# Label Encoding\n",
    "for col in ['gender','Partner','Dependents','PhoneService','PaperlessBilling','Churn','TenureGroup']:\n",
    "    df[col] = LabelEncoder().fit_transform(df[col])\n",
    "\n",
    "# One-Hot Encoding\n",
    "df = pd.get_dummies(df, columns=['Contract','InternetService','PaymentMethod',\n",
    "                                 'MultipleLines','OnlineSecurity','OnlineBackup',\n",
    "                                 'DeviceProtection','TechSupport','StreamingTV','StreamingMovies'], \n",
    "                    drop_first=True)\n",
    "df['SeniorCitizen'] = df['SeniorCitizen'].astype(int)\n",
    "df['TenureGroup'] = df['TenureGroup'].astype('category').cat.codes"
   ]
  },
  {
   "cell_type": "code",
   "execution_count": 17,
   "id": "7747797d-536a-49a0-b6b4-bb5739399a35",
   "metadata": {},
   "outputs": [],
   "source": [
    "df= df.drop(['customerID'],axis=1)"
   ]
  },
  {
   "cell_type": "code",
   "execution_count": 18,
   "id": "ec1e41c0-068a-4bce-aed6-f9288febc777",
   "metadata": {},
   "outputs": [
    {
     "name": "stdout",
     "output_type": "stream",
     "text": [
      "gender                                     int64\n",
      "SeniorCitizen                              int64\n",
      "Partner                                    int64\n",
      "Dependents                                 int64\n",
      "tenure                                     int64\n",
      "PhoneService                               int64\n",
      "PaperlessBilling                           int64\n",
      "MonthlyCharges                           float64\n",
      "TotalCharges                             float64\n",
      "Churn                                      int64\n",
      "TenureGroup                                 int8\n",
      "TotalServices                              int64\n",
      "TenureNorm                               float64\n",
      "Contract_One year                           bool\n",
      "Contract_Two year                           bool\n",
      "InternetService_Fiber optic                 bool\n",
      "InternetService_No                          bool\n",
      "PaymentMethod_Credit card (automatic)       bool\n",
      "PaymentMethod_Electronic check              bool\n",
      "PaymentMethod_Mailed check                  bool\n",
      "MultipleLines_No phone service              bool\n",
      "MultipleLines_Yes                           bool\n",
      "OnlineSecurity_No internet service          bool\n",
      "OnlineSecurity_Yes                          bool\n",
      "OnlineBackup_No internet service            bool\n",
      "OnlineBackup_Yes                            bool\n",
      "DeviceProtection_No internet service        bool\n",
      "DeviceProtection_Yes                        bool\n",
      "TechSupport_No internet service             bool\n",
      "TechSupport_Yes                             bool\n",
      "StreamingTV_No internet service             bool\n",
      "StreamingTV_Yes                             bool\n",
      "StreamingMovies_No internet service         bool\n",
      "StreamingMovies_Yes                         bool\n",
      "dtype: object\n"
     ]
    }
   ],
   "source": [
    "print(df.dtypes)"
   ]
  },
  {
   "cell_type": "code",
   "execution_count": 19,
   "id": "2e6c0165-5451-46fd-bfda-95801e11cc15",
   "metadata": {},
   "outputs": [
    {
     "name": "stdout",
     "output_type": "stream",
     "text": [
      "Before SMOTE:\n",
      " Churn\n",
      "0    4139\n",
      "1    1495\n",
      "Name: count, dtype: int64\n",
      "After SMOTE:\n",
      " Churn\n",
      "0    4139\n",
      "1    4139\n",
      "Name: count, dtype: int64\n"
     ]
    }
   ],
   "source": [
    "from sklearn.model_selection import train_test_split\n",
    "from imblearn.over_sampling import SMOTE\n",
    "\n",
    "X = df.drop('Churn', axis=1)\n",
    "y = df['Churn']\n",
    "\n",
    "# Train-test split\n",
    "X_train, X_test, y_train, y_test = train_test_split(\n",
    "    X, y, test_size=0.2, stratify=y, random_state=42\n",
    ")\n",
    "\n",
    "smote = SMOTE(random_state=42)\n",
    "X_train_res, y_train_res = smote.fit_resample(X_train, y_train)\n",
    "\n",
    "print(\"Before SMOTE:\\n\", y_train.value_counts())\n",
    "print(\"After SMOTE:\\n\", y_train_res.value_counts())\n"
   ]
  },
  {
   "cell_type": "code",
   "execution_count": 20,
   "id": "474d2cde-d164-4569-ac96-b4f52c37ff17",
   "metadata": {},
   "outputs": [
    {
     "name": "stderr",
     "output_type": "stream",
     "text": [
      "C:\\Users\\dell\\AppData\\Roaming\\Python\\Python310\\site-packages\\sklearn\\linear_model\\_logistic.py:465: ConvergenceWarning: lbfgs failed to converge (status=1):\n",
      "STOP: TOTAL NO. OF ITERATIONS REACHED LIMIT.\n",
      "\n",
      "Increase the number of iterations (max_iter) or scale the data as shown in:\n",
      "    https://scikit-learn.org/stable/modules/preprocessing.html\n",
      "Please also refer to the documentation for alternative solver options:\n",
      "    https://scikit-learn.org/stable/modules/linear_model.html#logistic-regression\n",
      "  n_iter_i = _check_optimize_result(\n"
     ]
    },
    {
     "name": "stdout",
     "output_type": "stream",
     "text": [
      "LogReg Accuracy: 0.7828\n",
      "RandomForest Accuracy: 0.7764\n",
      "SVM Accuracy: 0.6920\n"
     ]
    },
    {
     "name": "stderr",
     "output_type": "stream",
     "text": [
      "C:\\Users\\dell\\AppData\\Roaming\\Python\\Python310\\site-packages\\sklearn\\linear_model\\_logistic.py:465: ConvergenceWarning: lbfgs failed to converge (status=1):\n",
      "STOP: TOTAL NO. OF ITERATIONS REACHED LIMIT.\n",
      "\n",
      "Increase the number of iterations (max_iter) or scale the data as shown in:\n",
      "    https://scikit-learn.org/stable/modules/preprocessing.html\n",
      "Please also refer to the documentation for alternative solver options:\n",
      "    https://scikit-learn.org/stable/modules/linear_model.html#logistic-regression\n",
      "  n_iter_i = _check_optimize_result(\n"
     ]
    },
    {
     "name": "stdout",
     "output_type": "stream",
     "text": [
      "Voting Accuracy: 0.7857\n"
     ]
    }
   ],
   "source": [
    "from sklearn.linear_model import LogisticRegression\n",
    "from sklearn.ensemble import RandomForestClassifier, VotingClassifier\n",
    "from sklearn.svm import SVC\n",
    "\n",
    "log_reg = LogisticRegression(class_weight=\"balanced\", max_iter=1000, random_state=42)\n",
    "rf = RandomForestClassifier(class_weight=\"balanced\", n_estimators=200, random_state=42)\n",
    "svm = SVC(class_weight=\"balanced\", probability=True, random_state=42)\n",
    "\n",
    "voting_clf = VotingClassifier(\n",
    "    estimators=[(\"lr\", log_reg), (\"rf\", rf), (\"svm\", svm)],\n",
    "    voting=\"soft\"\n",
    ")\n",
    "\n",
    "for clf, label in zip([log_reg, rf, svm, voting_clf], \n",
    "                      [\"LogReg\", \"RandomForest\", \"SVM\", \"Voting\"]):\n",
    "    clf.fit(X_train_res, y_train_res)\n",
    "    y_pred = clf.predict(X_test)\n",
    "    print(f\"{label} Accuracy: {clf.score(X_test, y_test):.4f}\")\n"
   ]
  },
  {
   "cell_type": "code",
   "execution_count": 21,
   "id": "cc750877-55d4-4a5d-9996-e42f59005d14",
   "metadata": {},
   "outputs": [
    {
     "name": "stderr",
     "output_type": "stream",
     "text": [
      "C:\\Users\\dell\\AppData\\Roaming\\Python\\Python310\\site-packages\\sklearn\\linear_model\\_logistic.py:465: ConvergenceWarning: lbfgs failed to converge (status=1):\n",
      "STOP: TOTAL NO. OF ITERATIONS REACHED LIMIT.\n",
      "\n",
      "Increase the number of iterations (max_iter) or scale the data as shown in:\n",
      "    https://scikit-learn.org/stable/modules/preprocessing.html\n",
      "Please also refer to the documentation for alternative solver options:\n",
      "    https://scikit-learn.org/stable/modules/linear_model.html#logistic-regression\n",
      "  n_iter_i = _check_optimize_result(\n"
     ]
    },
    {
     "name": "stdout",
     "output_type": "stream",
     "text": [
      "\n",
      "Model: LogReg\n",
      "              precision    recall  f1-score   support\n",
      "\n",
      "           0       0.86      0.84      0.85      1035\n",
      "           1       0.59      0.62      0.60       374\n",
      "\n",
      "    accuracy                           0.78      1409\n",
      "   macro avg       0.72      0.73      0.73      1409\n",
      "weighted avg       0.79      0.78      0.78      1409\n",
      "\n",
      "ROC-AUC: 0.8287\n",
      "\n",
      "Model: RandomForest\n",
      "              precision    recall  f1-score   support\n",
      "\n",
      "           0       0.85      0.84      0.85      1035\n",
      "           1       0.58      0.60      0.59       374\n",
      "\n",
      "    accuracy                           0.78      1409\n",
      "   macro avg       0.71      0.72      0.72      1409\n",
      "weighted avg       0.78      0.78      0.78      1409\n",
      "\n",
      "ROC-AUC: 0.8195\n",
      "\n",
      "Model: SVM\n",
      "              precision    recall  f1-score   support\n",
      "\n",
      "           0       0.84      0.71      0.77      1035\n",
      "           1       0.44      0.63      0.52       374\n",
      "\n",
      "    accuracy                           0.69      1409\n",
      "   macro avg       0.64      0.67      0.65      1409\n",
      "weighted avg       0.74      0.69      0.71      1409\n",
      "\n",
      "ROC-AUC: 0.7574\n"
     ]
    },
    {
     "name": "stderr",
     "output_type": "stream",
     "text": [
      "C:\\Users\\dell\\AppData\\Roaming\\Python\\Python310\\site-packages\\sklearn\\linear_model\\_logistic.py:465: ConvergenceWarning: lbfgs failed to converge (status=1):\n",
      "STOP: TOTAL NO. OF ITERATIONS REACHED LIMIT.\n",
      "\n",
      "Increase the number of iterations (max_iter) or scale the data as shown in:\n",
      "    https://scikit-learn.org/stable/modules/preprocessing.html\n",
      "Please also refer to the documentation for alternative solver options:\n",
      "    https://scikit-learn.org/stable/modules/linear_model.html#logistic-regression\n",
      "  n_iter_i = _check_optimize_result(\n"
     ]
    },
    {
     "name": "stdout",
     "output_type": "stream",
     "text": [
      "\n",
      "Model: Voting\n",
      "              precision    recall  f1-score   support\n",
      "\n",
      "           0       0.86      0.84      0.85      1035\n",
      "           1       0.59      0.64      0.61       374\n",
      "\n",
      "    accuracy                           0.79      1409\n",
      "   macro avg       0.73      0.74      0.73      1409\n",
      "weighted avg       0.79      0.79      0.79      1409\n",
      "\n",
      "ROC-AUC: 0.8326\n"
     ]
    }
   ],
   "source": [
    "from sklearn.metrics import classification_report, roc_auc_score\n",
    "\n",
    "for clf, label in zip([log_reg, rf, svm, voting_clf], \n",
    "                      [\"LogReg\", \"RandomForest\", \"SVM\", \"Voting\"]):\n",
    "    clf.fit(X_train_res, y_train_res)\n",
    "    y_pred = clf.predict(X_test)\n",
    "    y_proba = clf.predict_proba(X_test)[:,1] if hasattr(clf, \"predict_proba\") else None\n",
    "    \n",
    "    print(f\"\\nModel: {label}\")\n",
    "    print(classification_report(y_test, y_pred))\n",
    "    if y_proba is not None:\n",
    "        print(f\"ROC-AUC: {roc_auc_score(y_test, y_proba):.4f}\")\n"
   ]
  },
  {
   "cell_type": "code",
   "execution_count": 22,
   "id": "1f13ad7d-ccb9-43f1-b1f2-5f330a36b1e7",
   "metadata": {},
   "outputs": [
    {
     "name": "stdout",
     "output_type": "stream",
     "text": [
      "Top Features (Logistic Regression):\n",
      "                           Feature  Importance\n",
      "10                   TotalServices    3.696470\n",
      "20               MultipleLines_Yes    3.614202\n",
      "26            DeviceProtection_Yes    3.315582\n",
      "30                 StreamingTV_Yes    3.282258\n",
      "32             StreamingMovies_Yes    3.273520\n",
      "24                OnlineBackup_Yes    3.181484\n",
      "28                 TechSupport_Yes    2.973521\n",
      "22              OnlineSecurity_Yes    2.917268\n",
      "17  PaymentMethod_Electronic check    1.255064\n",
      "18      PaymentMethod_Mailed check    1.077682\n",
      "\n",
      "Top Features (Random Forest):\n",
      "                           Feature  Importance\n",
      "8                     TotalCharges    0.118636\n",
      "7                   MonthlyCharges    0.114115\n",
      "11                      TenureNorm    0.096475\n",
      "17  PaymentMethod_Electronic check    0.091371\n",
      "4                           tenure    0.090480\n",
      "14     InternetService_Fiber optic    0.056202\n",
      "9                      TenureGroup    0.047080\n",
      "10                   TotalServices    0.041492\n",
      "13               Contract_Two year    0.033229\n",
      "3                       Dependents    0.031052\n"
     ]
    }
   ],
   "source": [
    "import pandas as pd\n",
    "import numpy as np\n",
    "import matplotlib.pyplot as plt\n",
    "import shap\n",
    "# ---- Logistic Regression Feature Importance ---- \n",
    "log_reg_importance = pd.DataFrame({\n",
    "    'Feature': X_train_res.columns,\n",
    "    'Importance': np.abs(log_reg.coef_[0])\n",
    "}).sort_values(by='Importance', ascending=False)\n",
    "\n",
    "print(\"Top Features (Logistic Regression):\")\n",
    "print(log_reg_importance.head(10))\n",
    "\n",
    "\n",
    "# ---- Random Forest Feature Importance ---- \n",
    "rf_importance = pd.DataFrame({\n",
    "    'Feature': X_train_res.columns,\n",
    "    'Importance': rf.feature_importances_\n",
    "}).sort_values(by='Importance', ascending=False)\n",
    "\n",
    "print(\"\\nTop Features (Random Forest):\")\n",
    "print(rf_importance.head(10))\n",
    "\n"
   ]
  },
  {
   "cell_type": "code",
   "execution_count": 26,
   "id": "4e2ef542-38d3-4313-a046-d7cd2ab1b200",
   "metadata": {},
   "outputs": [
    {
     "name": "stdout",
     "output_type": "stream",
     "text": [
      "Saved pipeline -> churn_pipeline.pkl and feature_columns.pkl\n"
     ]
    }
   ],
   "source": [
    "\n",
    "import joblib\n",
    "import pandas as pd\n",
    "from sklearn.preprocessing import OneHotEncoder, StandardScaler\n",
    "from sklearn.pipeline import Pipeline\n",
    "from sklearn.preprocessing import StandardScaler\n",
    "from sklearn.compose import ColumnTransformer\n",
    "\n",
    "\n",
    "feature_columns = X_train_res.columns.tolist()    \n",
    "\n",
    "# choosing numeric columns that need scaling\n",
    "categorical = [\"gender\", \"Partner\", \"Dependents\"]\n",
    "numeric = [\"tenure\", \"MonthlyCharges\", \"TotalCharges\"]\n",
    "\n",
    "\n",
    "preprocessor = ColumnTransformer(\n",
    "    transformers=[\n",
    "        (\"cat\", OneHotEncoder(handle_unknown=\"ignore\"), categorical),\n",
    "        (\"num\", StandardScaler(), numeric)\n",
    "    ]\n",
    ")\n",
    "\n",
    "pipeline = Pipeline([\n",
    "    (\"preprocessor\", preprocessor),\n",
    "    (\"model\", rf)   \n",
    "])\n",
    "\n",
    "pipeline.fit(X_train_res, y_train_res)\n",
    "# Save the pipeline and feature order\n",
    "joblib.dump(pipeline, \"churn_pipeline.pkl\")\n",
    "\n",
    "joblib.dump(feature_columns, \"feature_columns.pkl\")\n",
    "print(\"Saved pipeline -> churn_pipeline.pkl and feature_columns.pkl\")\n"
   ]
  },
  {
   "cell_type": "code",
   "execution_count": 24,
   "id": "80773e98-2d03-48bc-a69e-a1c606ccdbeb",
   "metadata": {},
   "outputs": [],
   "source": [
    "# app/main.py\n",
    "from fastapi import FastAPI, HTTPException\n",
    "from pydantic import BaseModel\n",
    "import joblib\n",
    "import pandas as pd\n",
    "import numpy as np\n",
    "import os\n",
    "\n",
    "\n",
    "PIPELINE_PATH = os.environ.get(\"PIPELINE_PATH\", \"churn_pipeline.pkl\")\n",
    "FEATURES_PATH = os.environ.get(\"FEATURES_PATH\", \"feature_columns.pkl\")\n",
    "\n",
    "pipeline = joblib.load(PIPELINE_PATH)\n",
    "feature_columns = joblib.load(FEATURES_PATH)  \n",
    "\n",
    "app = FastAPI(title=\"Churn Prediction API\")\n",
    "\n",
    "class Customer(BaseModel):\n",
    "    # define the expected fields (example; adapt to your features)\n",
    "    customerID: str | None = None\n",
    "    gender: str | None = None\n",
    "    SeniorCitizen: int | None = None\n",
    "    Partner: int | None = None\n",
    "    Dependents: int | None = None\n",
    "    tenure: float\n",
    "    MonthlyCharges: float\n",
    "    TotalCharges: float\n",
    "    TotalServices: int\n",
    "    TenureNorm: float\n",
    "    # plus the one-hot columns you used; alternatively accept a free dict below\n",
    "    # To keep it flexible, we accept additional fields via extra model later\n",
    "\n",
    "class RawCustomer(BaseModel):\n",
    "    data: dict  # expects a dict mapping feature names -> values\n",
    "\n",
    "@app.get(\"/\")\n",
    "def root():\n",
    "    return {\"status\": \"ok\", \"message\": \"Churn Prediction API\"}\n",
    "\n",
    "@app.post(\"/predict\")\n",
    "def predict(payload: RawCustomer):\n",
    "    try:\n",
    "        row = payload.data\n",
    "        # Build dataframe in the same column order as training\n",
    "        # Start with empty DF with feature_columns\n",
    "        X = pd.DataFrame([row], columns=feature_columns)\n",
    "        # Fill missing columns with 0 (for dummy columns) or NaN for numeric\n",
    "        for c in feature_columns:\n",
    "            if c not in X.columns:\n",
    "                # default for dummies = 0, numeric = 0\n",
    "                X[c] = 0\n",
    "        # Reorder\n",
    "        X = X[feature_columns]\n",
    "\n",
    "        # Ensure numeric types where possible\n",
    "        X = X.apply(pd.to_numeric, errors=\"ignore\")\n",
    "\n",
    "        # predict\n",
    "        proba = pipeline.predict_proba(X)[:, 1][0]\n",
    "        pred = int(pipeline.predict(X)[0])\n",
    "\n",
    "        return {\"prediction\": pred, \"probability\": float(proba)}\n",
    "    except Exception as e:\n",
    "        raise HTTPException(status_code=400, detail=str(e))\n",
    "\n",
    "@app.post(\"/predict_bulk\")\n",
    "def predict_bulk(payload: dict):\n",
    "    # expects {\"instances\": [ {feature: val, ...}, {...} ]}\n",
    "    try:\n",
    "        instances = payload.get(\"instances\", [])\n",
    "        X = pd.DataFrame(instances)\n",
    "        # ensure all columns present\n",
    "        for c in feature_columns:\n",
    "            if c not in X.columns:\n",
    "                X[c] = 0\n",
    "        X = X[feature_columns]\n",
    "        X = X.apply(pd.to_numeric, errors=\"ignore\")\n",
    "        probas = pipeline.predict_proba(X)[:, 1].tolist()\n",
    "        preds = pipeline.predict(X).astype(int).tolist()\n",
    "        return {\"predictions\": preds, \"probabilities\": probas}\n",
    "    except Exception as e:\n",
    "        raise HTTPException(status_code=400, detail=str(e))\n"
   ]
  },
  {
   "cell_type": "code",
   "execution_count": null,
   "id": "ee422bc3-5ece-4e44-b248-77fc15ebad80",
   "metadata": {},
   "outputs": [],
   "source": []
  }
 ],
 "metadata": {
  "kernelspec": {
   "display_name": "Python 3 (ipykernel)",
   "language": "python",
   "name": "python3"
  },
  "language_info": {
   "codemirror_mode": {
    "name": "ipython",
    "version": 3
   },
   "file_extension": ".py",
   "mimetype": "text/x-python",
   "name": "python",
   "nbconvert_exporter": "python",
   "pygments_lexer": "ipython3",
   "version": "3.10.0"
  }
 },
 "nbformat": 4,
 "nbformat_minor": 5
}
