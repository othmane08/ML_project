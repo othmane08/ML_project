{
 "cells": [
  {
   "cell_type": "code",
   "execution_count": 1,
   "id": "ec932721-ced5-40ad-a756-aaed79174275",
   "metadata": {},
   "outputs": [],
   "source": [
    ">>> from sklearn.datasets import fetch_openml\n",
    ">>> mnist = fetch_openml('mnist_784', version=1)\n",
    ">>> mnist.keys()\n",
    "dict_keys(['data', 'target', 'feature_names', 'DESCR', 'details',\n",
    " 'categories', 'url'])\n"
   ]
  },
  {
   "cell_type": "code",
   "execution_count": null,
   "id": "277720b3-5c88-49a1-b6c9-c2aab06a6fc3",
   "metadata": {},
   "outputs": [],
   "source": []
  }
 ],
 "metadata": {
  "kernelspec": {
   "display_name": "Python 3 (ipykernel)",
   "language": "python",
   "name": "python3"
  },
  "language_info": {
   "codemirror_mode": {
    "name": "ipython",
    "version": 3
   },
   "file_extension": ".py",
   "mimetype": "text/x-python",
   "name": "python",
   "nbconvert_exporter": "python",
   "pygments_lexer": "ipython3",
   "version": "3.13.0"
  }
 },
 "nbformat": 4,
 "nbformat_minor": 5
}
